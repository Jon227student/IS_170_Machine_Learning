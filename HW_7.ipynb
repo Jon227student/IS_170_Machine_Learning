{
  "nbformat": 4,
  "nbformat_minor": 0,
  "metadata": {
    "colab": {
      "provenance": [],
      "authorship_tag": "ABX9TyNADuHepIiL3kbvQTz3kw6a",
      "include_colab_link": true
    },
    "kernelspec": {
      "name": "python3",
      "display_name": "Python 3"
    },
    "language_info": {
      "name": "python"
    }
  },
  "cells": [
    {
      "cell_type": "markdown",
      "metadata": {
        "id": "view-in-github",
        "colab_type": "text"
      },
      "source": [
        "<a href=\"https://colab.research.google.com/github/Jon227student/IS_170_Machine_Learning/blob/7.-K-Nearest-Neighbors/HW_7.ipynb\" target=\"_parent\"><img src=\"https://colab.research.google.com/assets/colab-badge.svg\" alt=\"Open In Colab\"/></a>"
      ]
    },
    {
      "cell_type": "code",
      "execution_count": null,
      "metadata": {
        "id": "BYvYs9tZXwgK"
      },
      "outputs": [],
      "source": [
        "import pandas as pd\n",
        "import numpy as np\n",
        "from sklearn import preprocessing "
      ]
    },
    {
      "cell_type": "code",
      "source": [
        "df=pd.read_csv('/content/Loan_Default.csv')"
      ],
      "metadata": {
        "id": "lzvp2CQhmMsh"
      },
      "execution_count": null,
      "outputs": []
    },
    {
      "cell_type": "code",
      "source": [
        "missing_values = df.isnull().sum()\n",
        "print(missing_values)"
      ],
      "metadata": {
        "colab": {
          "base_uri": "https://localhost:8080/"
        },
        "id": "UseHGI2QmdEA",
        "outputId": "d9036296-fd6c-41c0-eb67-b7d63eee6507"
      },
      "execution_count": null,
      "outputs": [
        {
          "output_type": "stream",
          "name": "stdout",
          "text": [
            "ID                               0\n",
            "year                             0\n",
            "loan_limit                    3344\n",
            "Gender                           0\n",
            "approv_in_adv                  908\n",
            "loan_type                        0\n",
            "loan_purpose                   134\n",
            "Credit_Worthiness                0\n",
            "open_credit                      0\n",
            "business_or_commercial           0\n",
            "loan_amount                      0\n",
            "rate_of_interest             36439\n",
            "Interest_rate_spread         36639\n",
            "Upfront_charges              39642\n",
            "term                            41\n",
            "Neg_ammortization              121\n",
            "interest_only                    0\n",
            "lump_sum_payment                 0\n",
            "property_value               15098\n",
            "construction_type                0\n",
            "occupancy_type                   0\n",
            "Secured_by                       0\n",
            "total_units                      0\n",
            "income                        9150\n",
            "credit_type                      0\n",
            "Credit_Score                     0\n",
            "co-applicant_credit_type         0\n",
            "age                            200\n",
            "submission_of_application      200\n",
            "LTV                          15098\n",
            "Region                           0\n",
            "Security_Type                    0\n",
            "Status                           0\n",
            "dtir1                        24121\n",
            "dtype: int64\n"
          ]
        }
      ]
    },
    {
      "cell_type": "code",
      "source": [
        "df = df.drop(['Gender', 'year'], axis=1)\n",
        "print(df)"
      ],
      "metadata": {
        "colab": {
          "base_uri": "https://localhost:8080/"
        },
        "id": "t3y8iE1kn5qj",
        "outputId": "29022b9d-28d0-45b2-851b-9feca631ba25"
      },
      "execution_count": null,
      "outputs": [
        {
          "output_type": "stream",
          "name": "stdout",
          "text": [
            "            ID loan_limit approv_in_adv loan_type loan_purpose  \\\n",
            "0        24890         cf         nopre     type1           p1   \n",
            "1        24891         cf         nopre     type2           p1   \n",
            "2        24892         cf           pre     type1           p1   \n",
            "3        24893         cf         nopre     type1           p4   \n",
            "4        24894         cf           pre     type1           p1   \n",
            "...        ...        ...           ...       ...          ...   \n",
            "148665  173555         cf         nopre     type1           p3   \n",
            "148666  173556         cf         nopre     type1           p1   \n",
            "148667  173557         cf         nopre     type1           p4   \n",
            "148668  173558         cf         nopre     type1           p4   \n",
            "148669  173559         cf         nopre     type1           p3   \n",
            "\n",
            "       Credit_Worthiness open_credit business_or_commercial  loan_amount  \\\n",
            "0                     l1        nopc                  nob/c       116500   \n",
            "1                     l1        nopc                    b/c       206500   \n",
            "2                     l1        nopc                  nob/c       406500   \n",
            "3                     l1        nopc                  nob/c       456500   \n",
            "4                     l1        nopc                  nob/c       696500   \n",
            "...                  ...         ...                    ...          ...   \n",
            "148665                l1        nopc                  nob/c       436500   \n",
            "148666                l1        nopc                  nob/c       586500   \n",
            "148667                l1        nopc                  nob/c       446500   \n",
            "148668                l1        nopc                  nob/c       196500   \n",
            "148669                l1        nopc                  nob/c       406500   \n",
            "\n",
            "        rate_of_interest  ...  credit_type  Credit_Score  \\\n",
            "0                    NaN  ...          EXP           758   \n",
            "1                    NaN  ...         EQUI           552   \n",
            "2                  4.560  ...          EXP           834   \n",
            "3                  4.250  ...          EXP           587   \n",
            "4                  4.000  ...         CRIF           602   \n",
            "...                  ...  ...          ...           ...   \n",
            "148665             3.125  ...          CIB           659   \n",
            "148666             5.190  ...          CIB           569   \n",
            "148667             3.125  ...          CIB           702   \n",
            "148668             3.500  ...          EXP           737   \n",
            "148669             4.375  ...          CIB           830   \n",
            "\n",
            "        co-applicant_credit_type    age submission_of_application        LTV  \\\n",
            "0                            CIB  25-34                   to_inst  98.728814   \n",
            "1                            EXP  55-64                   to_inst        NaN   \n",
            "2                            CIB  35-44                   to_inst  80.019685   \n",
            "3                            CIB  45-54                  not_inst  69.376900   \n",
            "4                            EXP  25-34                  not_inst  91.886544   \n",
            "...                          ...    ...                       ...        ...   \n",
            "148665                       EXP  55-64                   to_inst  71.792763   \n",
            "148666                       CIB  25-34                  not_inst  74.428934   \n",
            "148667                       EXP  45-54                  not_inst  61.332418   \n",
            "148668                       EXP  55-64                   to_inst  70.683453   \n",
            "148669                       CIB  45-54                  not_inst  72.849462   \n",
            "\n",
            "        Region Security_Type Status dtir1  \n",
            "0        south        direct      1  45.0  \n",
            "1        North        direct      1   NaN  \n",
            "2        south        direct      0  46.0  \n",
            "3        North        direct      0  42.0  \n",
            "4        North        direct      0  39.0  \n",
            "...        ...           ...    ...   ...  \n",
            "148665   south        direct      0  48.0  \n",
            "148666   south        direct      0  15.0  \n",
            "148667   North        direct      0  49.0  \n",
            "148668   North        direct      0  29.0  \n",
            "148669   North        direct      0  44.0  \n",
            "\n",
            "[148670 rows x 32 columns]\n"
          ]
        }
      ]
    },
    {
      "cell_type": "code",
      "source": [
        "df = df.drop(['ID'], axis=1)"
      ],
      "metadata": {
        "id": "edHqFddDpMt9"
      },
      "execution_count": null,
      "outputs": []
    },
    {
      "cell_type": "code",
      "source": [
        "print(df.head())"
      ],
      "metadata": {
        "colab": {
          "base_uri": "https://localhost:8080/"
        },
        "id": "l0Mo6blQn80H",
        "outputId": "632ff82e-6930-406c-beda-136fb82bb4ad"
      },
      "execution_count": null,
      "outputs": [
        {
          "output_type": "stream",
          "name": "stdout",
          "text": [
            "  loan_limit approv_in_adv loan_type loan_purpose Credit_Worthiness  \\\n",
            "0         cf         nopre     type1           p1                l1   \n",
            "1         cf         nopre     type2           p1                l1   \n",
            "2         cf           pre     type1           p1                l1   \n",
            "3         cf         nopre     type1           p4                l1   \n",
            "4         cf           pre     type1           p1                l1   \n",
            "\n",
            "  open_credit business_or_commercial  loan_amount  rate_of_interest  \\\n",
            "0        nopc                  nob/c       116500               NaN   \n",
            "1        nopc                    b/c       206500               NaN   \n",
            "2        nopc                  nob/c       406500              4.56   \n",
            "3        nopc                  nob/c       456500              4.25   \n",
            "4        nopc                  nob/c       696500              4.00   \n",
            "\n",
            "   Interest_rate_spread  ...  credit_type  Credit_Score  \\\n",
            "0                   NaN  ...          EXP           758   \n",
            "1                   NaN  ...         EQUI           552   \n",
            "2                0.2000  ...          EXP           834   \n",
            "3                0.6810  ...          EXP           587   \n",
            "4                0.3042  ...         CRIF           602   \n",
            "\n",
            "  co-applicant_credit_type    age submission_of_application        LTV Region  \\\n",
            "0                      CIB  25-34                   to_inst  98.728814  south   \n",
            "1                      EXP  55-64                   to_inst        NaN  North   \n",
            "2                      CIB  35-44                   to_inst  80.019685  south   \n",
            "3                      CIB  45-54                  not_inst  69.376900  North   \n",
            "4                      EXP  25-34                  not_inst  91.886544  North   \n",
            "\n",
            "  Security_Type Status dtir1  \n",
            "0        direct      1  45.0  \n",
            "1        direct      1   NaN  \n",
            "2        direct      0  46.0  \n",
            "3        direct      0  42.0  \n",
            "4        direct      0  39.0  \n",
            "\n",
            "[5 rows x 31 columns]\n"
          ]
        }
      ]
    },
    {
      "cell_type": "code",
      "source": [
        "print(df.isna().sum())"
      ],
      "metadata": {
        "colab": {
          "base_uri": "https://localhost:8080/"
        },
        "id": "Ciw9y-mopfI4",
        "outputId": "b8bda69b-1db7-4611-aaf7-4f1a355f462e"
      },
      "execution_count": null,
      "outputs": [
        {
          "output_type": "stream",
          "name": "stdout",
          "text": [
            "loan_limit                    3344\n",
            "approv_in_adv                  908\n",
            "loan_type                        0\n",
            "loan_purpose                   134\n",
            "Credit_Worthiness                0\n",
            "open_credit                      0\n",
            "business_or_commercial           0\n",
            "loan_amount                      0\n",
            "rate_of_interest             36439\n",
            "Interest_rate_spread         36639\n",
            "Upfront_charges              39642\n",
            "term                            41\n",
            "Neg_ammortization              121\n",
            "interest_only                    0\n",
            "lump_sum_payment                 0\n",
            "property_value               15098\n",
            "construction_type                0\n",
            "occupancy_type                   0\n",
            "Secured_by                       0\n",
            "total_units                      0\n",
            "income                        9150\n",
            "credit_type                      0\n",
            "Credit_Score                     0\n",
            "co-applicant_credit_type         0\n",
            "age                            200\n",
            "submission_of_application      200\n",
            "LTV                          15098\n",
            "Region                           0\n",
            "Security_Type                    0\n",
            "Status                           0\n",
            "dtir1                        24121\n",
            "dtype: int64\n"
          ]
        }
      ]
    },
    {
      "cell_type": "code",
      "source": [
        "from sklearn.preprocessing import LabelEncoder\n",
        "\n",
        "le = preprocessing.LabelEncoder()\n",
        "df['loan_type'] = le.fit_transform(df['loan_type'])\n",
        "print(df['loan_type'])"
      ],
      "metadata": {
        "colab": {
          "base_uri": "https://localhost:8080/"
        },
        "id": "IaUq182pvzjy",
        "outputId": "1a4fd3b0-ce6f-488f-a68b-1b50a3fc051e"
      },
      "execution_count": null,
      "outputs": [
        {
          "output_type": "stream",
          "name": "stdout",
          "text": [
            "0         0\n",
            "1         1\n",
            "2         0\n",
            "3         0\n",
            "4         0\n",
            "         ..\n",
            "148665    0\n",
            "148666    0\n",
            "148667    0\n",
            "148668    0\n",
            "148669    0\n",
            "Name: loan_type, Length: 148670, dtype: int64\n"
          ]
        }
      ]
    },
    {
      "cell_type": "code",
      "source": [
        "le = preprocessing.LabelEncoder()\n",
        "df['open_credit'] = le.fit_transform(df['open_credit'])\n",
        "print(df['open_credit'])"
      ],
      "metadata": {
        "colab": {
          "base_uri": "https://localhost:8080/"
        },
        "id": "-oCAoCZ5w9so",
        "outputId": "4b2c3461-5571-46d6-9ffd-d7e87140aab2"
      },
      "execution_count": null,
      "outputs": [
        {
          "output_type": "stream",
          "name": "stdout",
          "text": [
            "0         0\n",
            "1         0\n",
            "2         0\n",
            "3         0\n",
            "4         0\n",
            "         ..\n",
            "148665    0\n",
            "148666    0\n",
            "148667    0\n",
            "148668    0\n",
            "148669    0\n",
            "Name: open_credit, Length: 148670, dtype: int64\n"
          ]
        }
      ]
    },
    {
      "cell_type": "code",
      "source": [
        "le = preprocessing.LabelEncoder()\n",
        "df['occupancy_type'] = le.fit_transform(df['occupancy_type'])\n",
        "print(df['occupancy_type'])"
      ],
      "metadata": {
        "colab": {
          "base_uri": "https://localhost:8080/"
        },
        "id": "9bRHZgzsxImW",
        "outputId": "9f784712-ffb9-42c8-8d79-3bdae7674d9f"
      },
      "execution_count": null,
      "outputs": [
        {
          "output_type": "stream",
          "name": "stdout",
          "text": [
            "0         1\n",
            "1         1\n",
            "2         1\n",
            "3         1\n",
            "4         1\n",
            "         ..\n",
            "148665    1\n",
            "148666    0\n",
            "148667    1\n",
            "148668    1\n",
            "148669    1\n",
            "Name: occupancy_type, Length: 148670, dtype: int64\n"
          ]
        }
      ]
    },
    {
      "cell_type": "code",
      "source": [
        "le = preprocessing.LabelEncoder()\n",
        "df['business_or_commercial'] = le.fit_transform(df['business_or_commercial'])\n",
        "print(df['business_or_commercial'])"
      ],
      "metadata": {
        "colab": {
          "base_uri": "https://localhost:8080/"
        },
        "id": "vp0XtvW0xSqm",
        "outputId": "112b21a4-a49f-41c8-ed2c-4988759e6bb0"
      },
      "execution_count": null,
      "outputs": [
        {
          "output_type": "stream",
          "name": "stdout",
          "text": [
            "0         1\n",
            "1         0\n",
            "2         1\n",
            "3         1\n",
            "4         1\n",
            "         ..\n",
            "148665    1\n",
            "148666    1\n",
            "148667    1\n",
            "148668    1\n",
            "148669    1\n",
            "Name: business_or_commercial, Length: 148670, dtype: int64\n"
          ]
        }
      ]
    },
    {
      "cell_type": "code",
      "source": [
        "\n",
        "print(df['Status'])"
      ],
      "metadata": {
        "colab": {
          "base_uri": "https://localhost:8080/"
        },
        "id": "efNN5nfb0x8E",
        "outputId": "24e2c824-99e7-457a-ccb6-937a6888a417"
      },
      "execution_count": null,
      "outputs": [
        {
          "output_type": "stream",
          "name": "stdout",
          "text": [
            "0         1\n",
            "1         1\n",
            "2         0\n",
            "3         0\n",
            "4         0\n",
            "         ..\n",
            "148665    0\n",
            "148666    0\n",
            "148667    0\n",
            "148668    0\n",
            "148669    0\n",
            "Name: Status, Length: 148670, dtype: int64\n"
          ]
        }
      ]
    },
    {
      "cell_type": "code",
      "source": [
        "from sklearn.model_selection import train_test_split\n",
        "\n",
        "# Define the features and target variable\n",
        "features = df[['open_credit', 'occupancy_type', 'loan_type', 'business_or_commercial']]\n",
        "target = df['Status']\n",
        "\n",
        "# Split the data into training and testing sets with a 80:20 ratio\n",
        "X_train, X_test, y_train, y_test = train_test_split(features, target, test_size=0.2, random_state=42)\n",
        "\n",
        "# Print the shape of the training and testing sets\n",
        "print(\"Shape of X_train:\", X_train.shape)\n",
        "print(\"Shape of X_test:\", X_test.shape)\n",
        "print(\"Shape of y_train:\", y_train.shape)\n",
        "print(\"Shape of y_test:\", y_test.shape)\n"
      ],
      "metadata": {
        "colab": {
          "base_uri": "https://localhost:8080/"
        },
        "id": "7zRVujYXu9Ku",
        "outputId": "6b0136b3-7fb3-4137-faf5-a172eaefa3ee"
      },
      "execution_count": null,
      "outputs": [
        {
          "output_type": "stream",
          "name": "stdout",
          "text": [
            "Shape of X_train: (118936, 4)\n",
            "Shape of X_test: (29734, 4)\n",
            "Shape of y_train: (118936,)\n",
            "Shape of y_test: (29734,)\n"
          ]
        }
      ]
    },
    {
      "cell_type": "code",
      "source": [
        "from sklearn.neighbors import KNeighborsClassifier\n",
        "from sklearn.metrics import classification_report\n",
        "knn = KNeighborsClassifier(n_neighbors=5)\n",
        "knn.fit(X_train, y_train)\n",
        "y_pred = knn.predict(X_test)\n",
        "print(classification_report(y_test, y_pred))\n"
      ],
      "metadata": {
        "colab": {
          "base_uri": "https://localhost:8080/"
        },
        "id": "r85tZrje0wuh",
        "outputId": "979c87cd-c958-4543-e3d7-0f50011cece1"
      },
      "execution_count": null,
      "outputs": [
        {
          "output_type": "stream",
          "name": "stdout",
          "text": [
            "              precision    recall  f1-score   support\n",
            "\n",
            "           0       0.76      1.00      0.86     22494\n",
            "           1       0.00      0.00      0.00      7240\n",
            "\n",
            "    accuracy                           0.76     29734\n",
            "   macro avg       0.38      0.50      0.43     29734\n",
            "weighted avg       0.57      0.76      0.65     29734\n",
            "\n"
          ]
        },
        {
          "output_type": "stream",
          "name": "stderr",
          "text": [
            "/usr/local/lib/python3.9/dist-packages/sklearn/metrics/_classification.py:1344: UndefinedMetricWarning: Precision and F-score are ill-defined and being set to 0.0 in labels with no predicted samples. Use `zero_division` parameter to control this behavior.\n",
            "  _warn_prf(average, modifier, msg_start, len(result))\n",
            "/usr/local/lib/python3.9/dist-packages/sklearn/metrics/_classification.py:1344: UndefinedMetricWarning: Precision and F-score are ill-defined and being set to 0.0 in labels with no predicted samples. Use `zero_division` parameter to control this behavior.\n",
            "  _warn_prf(average, modifier, msg_start, len(result))\n",
            "/usr/local/lib/python3.9/dist-packages/sklearn/metrics/_classification.py:1344: UndefinedMetricWarning: Precision and F-score are ill-defined and being set to 0.0 in labels with no predicted samples. Use `zero_division` parameter to control this behavior.\n",
            "  _warn_prf(average, modifier, msg_start, len(result))\n"
          ]
        }
      ]
    },
    {
      "cell_type": "markdown",
      "source": [
        "This program can predict with a 76% accuracy rate whether a applicant for a loan is likely to default on their loan. The program uses the data of applicants based on their open credit lines,occupancy, loan type, and whether the loan is business or commercial when providing a prediction. This program is useful when considering new applicants. Using this model we may be able to prevent accepting applicants who are more likely to default on the loan we provide. "
      ],
      "metadata": {
        "id": "dREK8WC299Mi"
      }
    }
  ]
}
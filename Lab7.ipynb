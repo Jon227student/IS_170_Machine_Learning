{
  "nbformat": 4,
  "nbformat_minor": 0,
  "metadata": {
    "colab": {
      "provenance": [],
      "authorship_tag": "ABX9TyN2fwHVHaEZgNbUwoIDcuOK",
      "include_colab_link": true
    },
    "kernelspec": {
      "name": "python3",
      "display_name": "Python 3"
    },
    "language_info": {
      "name": "python"
    }
  },
  "cells": [
    {
      "cell_type": "markdown",
      "metadata": {
        "id": "view-in-github",
        "colab_type": "text"
      },
      "source": [
        "<a href=\"https://colab.research.google.com/github/Jon227student/IS_170_Machine_Learning/blob/7.-K-Nearest-Neighbors/Lab7.ipynb\" target=\"_parent\"><img src=\"https://colab.research.google.com/assets/colab-badge.svg\" alt=\"Open In Colab\"/></a>"
      ]
    },
    {
      "cell_type": "markdown",
      "source": [
        "Jonathan Schultz Hyuna You"
      ],
      "metadata": {
        "id": "4rKdaqZgpBnC"
      }
    },
    {
      "cell_type": "code",
      "execution_count": null,
      "metadata": {
        "id": "Emeti11YVBx5"
      },
      "outputs": [],
      "source": [
        "import pandas as pd\n",
        "import numpy as np\n",
        "from sklearn import preprocessing"
      ]
    },
    {
      "cell_type": "code",
      "source": [
        "df=pd.read_csv(\"Sleep_Efficiency.csv\")\n",
        "df\n"
      ],
      "metadata": {
        "colab": {
          "base_uri": "https://localhost:8080/",
          "height": 857
        },
        "id": "tZ7HXUz1XQOb",
        "outputId": "004fd914-4275-4ac1-b826-05626cced6cb"
      },
      "execution_count": null,
      "outputs": [
        {
          "output_type": "execute_result",
          "data": {
            "text/plain": [
              "      ID  Age  Gender              Bedtime          Wakeup time  \\\n",
              "0      1   65  Female  2021-03-06 01:00:00  2021-03-06 07:00:00   \n",
              "1      2   69    Male  2021-12-05 02:00:00  2021-12-05 09:00:00   \n",
              "2      3   40  Female  2021-05-25 21:30:00  2021-05-25 05:30:00   \n",
              "3      4   40  Female  2021-11-03 02:30:00  2021-11-03 08:30:00   \n",
              "4      5   57    Male  2021-03-13 01:00:00  2021-03-13 09:00:00   \n",
              "..   ...  ...     ...                  ...                  ...   \n",
              "447  448   27  Female  2021-11-13 22:00:00  2021-11-13 05:30:00   \n",
              "448  449   52    Male  2021-03-31 21:00:00  2021-03-31 03:00:00   \n",
              "449  450   40  Female  2021-09-07 23:00:00  2021-09-07 07:30:00   \n",
              "450  451   45    Male  2021-07-29 21:00:00  2021-07-29 04:00:00   \n",
              "451  452   18    Male  2021-03-17 02:30:00  2021-03-17 10:00:00   \n",
              "\n",
              "     Sleep duration  Sleep efficiency  REM sleep percentage  \\\n",
              "0               6.0              0.88                    18   \n",
              "1               7.0              0.66                    19   \n",
              "2               8.0              0.89                    20   \n",
              "3               6.0              0.51                    23   \n",
              "4               8.0              0.76                    27   \n",
              "..              ...               ...                   ...   \n",
              "447             7.5              0.91                    22   \n",
              "448             6.0              0.74                    28   \n",
              "449             8.5              0.55                    20   \n",
              "450             7.0              0.76                    18   \n",
              "451             7.5              0.63                    22   \n",
              "\n",
              "     Deep sleep percentage  Light sleep percentage  Awakenings  \\\n",
              "0                       70                      12         0.0   \n",
              "1                       28                      53         3.0   \n",
              "2                       70                      10         1.0   \n",
              "3                       25                      52         3.0   \n",
              "4                       55                      18         3.0   \n",
              "..                     ...                     ...         ...   \n",
              "447                     57                      21         0.0   \n",
              "448                     57                      15         4.0   \n",
              "449                     32                      48         1.0   \n",
              "450                     72                      10         3.0   \n",
              "451                     23                      55         1.0   \n",
              "\n",
              "     Caffeine consumption  Alcohol consumption Smoking status  \\\n",
              "0                     0.0                  0.0            Yes   \n",
              "1                     0.0                  3.0            Yes   \n",
              "2                     0.0                  0.0             No   \n",
              "3                    50.0                  5.0            Yes   \n",
              "4                     0.0                  3.0             No   \n",
              "..                    ...                  ...            ...   \n",
              "447                   0.0                  0.0             No   \n",
              "448                  25.0                  0.0             No   \n",
              "449                   NaN                  3.0            Yes   \n",
              "450                   0.0                  0.0             No   \n",
              "451                  50.0                  0.0             No   \n",
              "\n",
              "     Exercise frequency  \n",
              "0                   3.0  \n",
              "1                   3.0  \n",
              "2                   3.0  \n",
              "3                   1.0  \n",
              "4                   3.0  \n",
              "..                  ...  \n",
              "447                 5.0  \n",
              "448                 3.0  \n",
              "449                 0.0  \n",
              "450                 3.0  \n",
              "451                 1.0  \n",
              "\n",
              "[452 rows x 15 columns]"
            ],
            "text/html": [
              "\n",
              "  <div id=\"df-a848b79b-a156-48d2-8561-79a5deaafd01\">\n",
              "    <div class=\"colab-df-container\">\n",
              "      <div>\n",
              "<style scoped>\n",
              "    .dataframe tbody tr th:only-of-type {\n",
              "        vertical-align: middle;\n",
              "    }\n",
              "\n",
              "    .dataframe tbody tr th {\n",
              "        vertical-align: top;\n",
              "    }\n",
              "\n",
              "    .dataframe thead th {\n",
              "        text-align: right;\n",
              "    }\n",
              "</style>\n",
              "<table border=\"1\" class=\"dataframe\">\n",
              "  <thead>\n",
              "    <tr style=\"text-align: right;\">\n",
              "      <th></th>\n",
              "      <th>ID</th>\n",
              "      <th>Age</th>\n",
              "      <th>Gender</th>\n",
              "      <th>Bedtime</th>\n",
              "      <th>Wakeup time</th>\n",
              "      <th>Sleep duration</th>\n",
              "      <th>Sleep efficiency</th>\n",
              "      <th>REM sleep percentage</th>\n",
              "      <th>Deep sleep percentage</th>\n",
              "      <th>Light sleep percentage</th>\n",
              "      <th>Awakenings</th>\n",
              "      <th>Caffeine consumption</th>\n",
              "      <th>Alcohol consumption</th>\n",
              "      <th>Smoking status</th>\n",
              "      <th>Exercise frequency</th>\n",
              "    </tr>\n",
              "  </thead>\n",
              "  <tbody>\n",
              "    <tr>\n",
              "      <th>0</th>\n",
              "      <td>1</td>\n",
              "      <td>65</td>\n",
              "      <td>Female</td>\n",
              "      <td>2021-03-06 01:00:00</td>\n",
              "      <td>2021-03-06 07:00:00</td>\n",
              "      <td>6.0</td>\n",
              "      <td>0.88</td>\n",
              "      <td>18</td>\n",
              "      <td>70</td>\n",
              "      <td>12</td>\n",
              "      <td>0.0</td>\n",
              "      <td>0.0</td>\n",
              "      <td>0.0</td>\n",
              "      <td>Yes</td>\n",
              "      <td>3.0</td>\n",
              "    </tr>\n",
              "    <tr>\n",
              "      <th>1</th>\n",
              "      <td>2</td>\n",
              "      <td>69</td>\n",
              "      <td>Male</td>\n",
              "      <td>2021-12-05 02:00:00</td>\n",
              "      <td>2021-12-05 09:00:00</td>\n",
              "      <td>7.0</td>\n",
              "      <td>0.66</td>\n",
              "      <td>19</td>\n",
              "      <td>28</td>\n",
              "      <td>53</td>\n",
              "      <td>3.0</td>\n",
              "      <td>0.0</td>\n",
              "      <td>3.0</td>\n",
              "      <td>Yes</td>\n",
              "      <td>3.0</td>\n",
              "    </tr>\n",
              "    <tr>\n",
              "      <th>2</th>\n",
              "      <td>3</td>\n",
              "      <td>40</td>\n",
              "      <td>Female</td>\n",
              "      <td>2021-05-25 21:30:00</td>\n",
              "      <td>2021-05-25 05:30:00</td>\n",
              "      <td>8.0</td>\n",
              "      <td>0.89</td>\n",
              "      <td>20</td>\n",
              "      <td>70</td>\n",
              "      <td>10</td>\n",
              "      <td>1.0</td>\n",
              "      <td>0.0</td>\n",
              "      <td>0.0</td>\n",
              "      <td>No</td>\n",
              "      <td>3.0</td>\n",
              "    </tr>\n",
              "    <tr>\n",
              "      <th>3</th>\n",
              "      <td>4</td>\n",
              "      <td>40</td>\n",
              "      <td>Female</td>\n",
              "      <td>2021-11-03 02:30:00</td>\n",
              "      <td>2021-11-03 08:30:00</td>\n",
              "      <td>6.0</td>\n",
              "      <td>0.51</td>\n",
              "      <td>23</td>\n",
              "      <td>25</td>\n",
              "      <td>52</td>\n",
              "      <td>3.0</td>\n",
              "      <td>50.0</td>\n",
              "      <td>5.0</td>\n",
              "      <td>Yes</td>\n",
              "      <td>1.0</td>\n",
              "    </tr>\n",
              "    <tr>\n",
              "      <th>4</th>\n",
              "      <td>5</td>\n",
              "      <td>57</td>\n",
              "      <td>Male</td>\n",
              "      <td>2021-03-13 01:00:00</td>\n",
              "      <td>2021-03-13 09:00:00</td>\n",
              "      <td>8.0</td>\n",
              "      <td>0.76</td>\n",
              "      <td>27</td>\n",
              "      <td>55</td>\n",
              "      <td>18</td>\n",
              "      <td>3.0</td>\n",
              "      <td>0.0</td>\n",
              "      <td>3.0</td>\n",
              "      <td>No</td>\n",
              "      <td>3.0</td>\n",
              "    </tr>\n",
              "    <tr>\n",
              "      <th>...</th>\n",
              "      <td>...</td>\n",
              "      <td>...</td>\n",
              "      <td>...</td>\n",
              "      <td>...</td>\n",
              "      <td>...</td>\n",
              "      <td>...</td>\n",
              "      <td>...</td>\n",
              "      <td>...</td>\n",
              "      <td>...</td>\n",
              "      <td>...</td>\n",
              "      <td>...</td>\n",
              "      <td>...</td>\n",
              "      <td>...</td>\n",
              "      <td>...</td>\n",
              "      <td>...</td>\n",
              "    </tr>\n",
              "    <tr>\n",
              "      <th>447</th>\n",
              "      <td>448</td>\n",
              "      <td>27</td>\n",
              "      <td>Female</td>\n",
              "      <td>2021-11-13 22:00:00</td>\n",
              "      <td>2021-11-13 05:30:00</td>\n",
              "      <td>7.5</td>\n",
              "      <td>0.91</td>\n",
              "      <td>22</td>\n",
              "      <td>57</td>\n",
              "      <td>21</td>\n",
              "      <td>0.0</td>\n",
              "      <td>0.0</td>\n",
              "      <td>0.0</td>\n",
              "      <td>No</td>\n",
              "      <td>5.0</td>\n",
              "    </tr>\n",
              "    <tr>\n",
              "      <th>448</th>\n",
              "      <td>449</td>\n",
              "      <td>52</td>\n",
              "      <td>Male</td>\n",
              "      <td>2021-03-31 21:00:00</td>\n",
              "      <td>2021-03-31 03:00:00</td>\n",
              "      <td>6.0</td>\n",
              "      <td>0.74</td>\n",
              "      <td>28</td>\n",
              "      <td>57</td>\n",
              "      <td>15</td>\n",
              "      <td>4.0</td>\n",
              "      <td>25.0</td>\n",
              "      <td>0.0</td>\n",
              "      <td>No</td>\n",
              "      <td>3.0</td>\n",
              "    </tr>\n",
              "    <tr>\n",
              "      <th>449</th>\n",
              "      <td>450</td>\n",
              "      <td>40</td>\n",
              "      <td>Female</td>\n",
              "      <td>2021-09-07 23:00:00</td>\n",
              "      <td>2021-09-07 07:30:00</td>\n",
              "      <td>8.5</td>\n",
              "      <td>0.55</td>\n",
              "      <td>20</td>\n",
              "      <td>32</td>\n",
              "      <td>48</td>\n",
              "      <td>1.0</td>\n",
              "      <td>NaN</td>\n",
              "      <td>3.0</td>\n",
              "      <td>Yes</td>\n",
              "      <td>0.0</td>\n",
              "    </tr>\n",
              "    <tr>\n",
              "      <th>450</th>\n",
              "      <td>451</td>\n",
              "      <td>45</td>\n",
              "      <td>Male</td>\n",
              "      <td>2021-07-29 21:00:00</td>\n",
              "      <td>2021-07-29 04:00:00</td>\n",
              "      <td>7.0</td>\n",
              "      <td>0.76</td>\n",
              "      <td>18</td>\n",
              "      <td>72</td>\n",
              "      <td>10</td>\n",
              "      <td>3.0</td>\n",
              "      <td>0.0</td>\n",
              "      <td>0.0</td>\n",
              "      <td>No</td>\n",
              "      <td>3.0</td>\n",
              "    </tr>\n",
              "    <tr>\n",
              "      <th>451</th>\n",
              "      <td>452</td>\n",
              "      <td>18</td>\n",
              "      <td>Male</td>\n",
              "      <td>2021-03-17 02:30:00</td>\n",
              "      <td>2021-03-17 10:00:00</td>\n",
              "      <td>7.5</td>\n",
              "      <td>0.63</td>\n",
              "      <td>22</td>\n",
              "      <td>23</td>\n",
              "      <td>55</td>\n",
              "      <td>1.0</td>\n",
              "      <td>50.0</td>\n",
              "      <td>0.0</td>\n",
              "      <td>No</td>\n",
              "      <td>1.0</td>\n",
              "    </tr>\n",
              "  </tbody>\n",
              "</table>\n",
              "<p>452 rows × 15 columns</p>\n",
              "</div>\n",
              "      <button class=\"colab-df-convert\" onclick=\"convertToInteractive('df-a848b79b-a156-48d2-8561-79a5deaafd01')\"\n",
              "              title=\"Convert this dataframe to an interactive table.\"\n",
              "              style=\"display:none;\">\n",
              "        \n",
              "  <svg xmlns=\"http://www.w3.org/2000/svg\" height=\"24px\"viewBox=\"0 0 24 24\"\n",
              "       width=\"24px\">\n",
              "    <path d=\"M0 0h24v24H0V0z\" fill=\"none\"/>\n",
              "    <path d=\"M18.56 5.44l.94 2.06.94-2.06 2.06-.94-2.06-.94-.94-2.06-.94 2.06-2.06.94zm-11 1L8.5 8.5l.94-2.06 2.06-.94-2.06-.94L8.5 2.5l-.94 2.06-2.06.94zm10 10l.94 2.06.94-2.06 2.06-.94-2.06-.94-.94-2.06-.94 2.06-2.06.94z\"/><path d=\"M17.41 7.96l-1.37-1.37c-.4-.4-.92-.59-1.43-.59-.52 0-1.04.2-1.43.59L10.3 9.45l-7.72 7.72c-.78.78-.78 2.05 0 2.83L4 21.41c.39.39.9.59 1.41.59.51 0 1.02-.2 1.41-.59l7.78-7.78 2.81-2.81c.8-.78.8-2.07 0-2.86zM5.41 20L4 18.59l7.72-7.72 1.47 1.35L5.41 20z\"/>\n",
              "  </svg>\n",
              "      </button>\n",
              "      \n",
              "  <style>\n",
              "    .colab-df-container {\n",
              "      display:flex;\n",
              "      flex-wrap:wrap;\n",
              "      gap: 12px;\n",
              "    }\n",
              "\n",
              "    .colab-df-convert {\n",
              "      background-color: #E8F0FE;\n",
              "      border: none;\n",
              "      border-radius: 50%;\n",
              "      cursor: pointer;\n",
              "      display: none;\n",
              "      fill: #1967D2;\n",
              "      height: 32px;\n",
              "      padding: 0 0 0 0;\n",
              "      width: 32px;\n",
              "    }\n",
              "\n",
              "    .colab-df-convert:hover {\n",
              "      background-color: #E2EBFA;\n",
              "      box-shadow: 0px 1px 2px rgba(60, 64, 67, 0.3), 0px 1px 3px 1px rgba(60, 64, 67, 0.15);\n",
              "      fill: #174EA6;\n",
              "    }\n",
              "\n",
              "    [theme=dark] .colab-df-convert {\n",
              "      background-color: #3B4455;\n",
              "      fill: #D2E3FC;\n",
              "    }\n",
              "\n",
              "    [theme=dark] .colab-df-convert:hover {\n",
              "      background-color: #434B5C;\n",
              "      box-shadow: 0px 1px 3px 1px rgba(0, 0, 0, 0.15);\n",
              "      filter: drop-shadow(0px 1px 2px rgba(0, 0, 0, 0.3));\n",
              "      fill: #FFFFFF;\n",
              "    }\n",
              "  </style>\n",
              "\n",
              "      <script>\n",
              "        const buttonEl =\n",
              "          document.querySelector('#df-a848b79b-a156-48d2-8561-79a5deaafd01 button.colab-df-convert');\n",
              "        buttonEl.style.display =\n",
              "          google.colab.kernel.accessAllowed ? 'block' : 'none';\n",
              "\n",
              "        async function convertToInteractive(key) {\n",
              "          const element = document.querySelector('#df-a848b79b-a156-48d2-8561-79a5deaafd01');\n",
              "          const dataTable =\n",
              "            await google.colab.kernel.invokeFunction('convertToInteractive',\n",
              "                                                     [key], {});\n",
              "          if (!dataTable) return;\n",
              "\n",
              "          const docLinkHtml = 'Like what you see? Visit the ' +\n",
              "            '<a target=\"_blank\" href=https://colab.research.google.com/notebooks/data_table.ipynb>data table notebook</a>'\n",
              "            + ' to learn more about interactive tables.';\n",
              "          element.innerHTML = '';\n",
              "          dataTable['output_type'] = 'display_data';\n",
              "          await google.colab.output.renderOutput(dataTable, element);\n",
              "          const docLink = document.createElement('div');\n",
              "          docLink.innerHTML = docLinkHtml;\n",
              "          element.appendChild(docLink);\n",
              "        }\n",
              "      </script>\n",
              "    </div>\n",
              "  </div>\n",
              "  "
            ]
          },
          "metadata": {},
          "execution_count": 3
        }
      ]
    },
    {
      "cell_type": "code",
      "source": [
        "print(df.isnull().sum())"
      ],
      "metadata": {
        "colab": {
          "base_uri": "https://localhost:8080/"
        },
        "id": "n2TvsIM8oEIJ",
        "outputId": "651f1e2b-4159-4079-b9a1-10115b536383"
      },
      "execution_count": null,
      "outputs": [
        {
          "output_type": "stream",
          "name": "stdout",
          "text": [
            "ID                        0\n",
            "Age                       0\n",
            "Gender                    0\n",
            "Bedtime                   0\n",
            "Wakeup time               0\n",
            "Sleep duration            0\n",
            "Sleep efficiency          0\n",
            "REM sleep percentage      0\n",
            "Deep sleep percentage     0\n",
            "Light sleep percentage    0\n",
            "Awakenings                0\n",
            "Caffeine consumption      0\n",
            "Alcohol consumption       0\n",
            "Smoking status            0\n",
            "Exercise frequency        0\n",
            "dtype: int64\n"
          ]
        }
      ]
    },
    {
      "cell_type": "code",
      "source": [
        "le=preprocessing.LabelEncoder()\n",
        "y=le.fit_transform(df['Smoking status'])\n",
        "print(y)"
      ],
      "metadata": {
        "colab": {
          "base_uri": "https://localhost:8080/"
        },
        "id": "0julDBFvk6CL",
        "outputId": "9f3eefea-6a67-4b7a-d6bb-19b3331dfa2b"
      },
      "execution_count": null,
      "outputs": [
        {
          "output_type": "stream",
          "name": "stdout",
          "text": [
            "[1 1 0 1 0 1 1 0 0 1 0 0 0 1 0 1 1 0 0 0 0 0 1 0 0 1 0 1 0 0 1 1 0 0 1 1 0\n",
            " 0 0 0 1 0 0 0 0 0 0 0 0 0 0 0 0 0 0 0 0 1 1 0 1 1 0 0 1 0 1 1 0 1 0 0 0 0\n",
            " 1 0 1 0 1 0 0 1 0 0 0 0 0 0 0 0 0 0 0 1 0 1 1 0 0 1 1 1 1 0 0 0 0 0 1 0 1\n",
            " 0 0 1 1 0 0 1 1 0 1 0 1 1 1 0 1 0 0 0 1 0 0 0 0 1 1 0 0 1 0 0 0 0 0 1 0 0\n",
            " 0 0 1 0 1 1 0 0 0 1 0 0 1 0 0 0 1 1 0 1 0 0 1 0 0 0 1 0 1 0 0 0 1 0 0 1 0\n",
            " 0 0 1 0 0 0 0 0 0 0 0 0 1 0 1 0 0 0 1 0 1 0 1 0 0 0 1 0 1 0 1 1 0 0 1 0 1\n",
            " 1 0 1 0 0 0 1 1 0 0 0 0 1 1 0 0 0 0 0 0 1 1 0 0 0 1 1 0 0 0 0 0 0 0 0 1 1\n",
            " 0 0 0 0 1 0 1 0 0 0 0 0 0 1 0 0 0 0 1 1 0 1 1 0 1 0 1 0 0 1 1 0 0 0 0 1 0\n",
            " 0 1 0 0 1 1 0 0 0 1 0 1 1 0 1 1 0 0 1 0 1 1 0 0 1 0 1 0 0 0 0 0 0 0 0 0 1\n",
            " 1 0 0 0 0 0 1 0 1 0 0 0 0 0 1 1 1 0 0 1 1 0 0 1 0 0 0 1 0 1 0 0 1 1 0 0 0\n",
            " 0 1 0 0 1 0 0 0 0 1 0 0 1 1 0 0 0 0]\n"
          ]
        }
      ]
    },
    {
      "cell_type": "code",
      "source": [
        "df.head"
      ],
      "metadata": {
        "colab": {
          "base_uri": "https://localhost:8080/"
        },
        "id": "j9Quweq-XdL4",
        "outputId": "e8ad257e-7117-45a4-a757-9e0b3ffe24e1"
      },
      "execution_count": null,
      "outputs": [
        {
          "output_type": "execute_result",
          "data": {
            "text/plain": [
              "<bound method NDFrame.head of       ID  Age  Gender              Bedtime          Wakeup time  \\\n",
              "0      1   65  Female  2021-03-06 01:00:00  2021-03-06 07:00:00   \n",
              "1      2   69    Male  2021-12-05 02:00:00  2021-12-05 09:00:00   \n",
              "2      3   40  Female  2021-05-25 21:30:00  2021-05-25 05:30:00   \n",
              "3      4   40  Female  2021-11-03 02:30:00  2021-11-03 08:30:00   \n",
              "4      5   57    Male  2021-03-13 01:00:00  2021-03-13 09:00:00   \n",
              "..   ...  ...     ...                  ...                  ...   \n",
              "445  446   30  Female  2021-11-16 23:00:00  2021-11-16 06:30:00   \n",
              "447  448   27  Female  2021-11-13 22:00:00  2021-11-13 05:30:00   \n",
              "448  449   52    Male  2021-03-31 21:00:00  2021-03-31 03:00:00   \n",
              "450  451   45    Male  2021-07-29 21:00:00  2021-07-29 04:00:00   \n",
              "451  452   18    Male  2021-03-17 02:30:00  2021-03-17 10:00:00   \n",
              "\n",
              "     Sleep duration  Sleep efficiency  REM sleep percentage  \\\n",
              "0               6.0              0.88                    18   \n",
              "1               7.0              0.66                    19   \n",
              "2               8.0              0.89                    20   \n",
              "3               6.0              0.51                    23   \n",
              "4               8.0              0.76                    27   \n",
              "..              ...               ...                   ...   \n",
              "445             7.5              0.53                    28   \n",
              "447             7.5              0.91                    22   \n",
              "448             6.0              0.74                    28   \n",
              "450             7.0              0.76                    18   \n",
              "451             7.5              0.63                    22   \n",
              "\n",
              "     Deep sleep percentage  Light sleep percentage  Awakenings  \\\n",
              "0                       70                      12         0.0   \n",
              "1                       28                      53         3.0   \n",
              "2                       70                      10         1.0   \n",
              "3                       25                      52         3.0   \n",
              "4                       55                      18         3.0   \n",
              "..                     ...                     ...         ...   \n",
              "445                     20                      52         4.0   \n",
              "447                     57                      21         0.0   \n",
              "448                     57                      15         4.0   \n",
              "450                     72                      10         3.0   \n",
              "451                     23                      55         1.0   \n",
              "\n",
              "     Caffeine consumption  Alcohol consumption Smoking status  \\\n",
              "0                     0.0                  0.0            Yes   \n",
              "1                     0.0                  3.0            Yes   \n",
              "2                     0.0                  0.0             No   \n",
              "3                    50.0                  5.0            Yes   \n",
              "4                     0.0                  3.0             No   \n",
              "..                    ...                  ...            ...   \n",
              "445                  50.0                  2.0            Yes   \n",
              "447                   0.0                  0.0             No   \n",
              "448                  25.0                  0.0             No   \n",
              "450                   0.0                  0.0             No   \n",
              "451                  50.0                  0.0             No   \n",
              "\n",
              "     Exercise frequency  \n",
              "0                   3.0  \n",
              "1                   3.0  \n",
              "2                   3.0  \n",
              "3                   1.0  \n",
              "4                   3.0  \n",
              "..                  ...  \n",
              "445                 1.0  \n",
              "447                 5.0  \n",
              "448                 3.0  \n",
              "450                 3.0  \n",
              "451                 1.0  \n",
              "\n",
              "[388 rows x 15 columns]>"
            ]
          },
          "metadata": {},
          "execution_count": 86
        }
      ]
    },
    {
      "cell_type": "code",
      "source": [
        "features=['Awakenings','Sleep duration','Alcohol consumption']\n",
        "X = df[features].values.tolist()\n",
        "\n",
        "print(features)\n",
        "print(X[:5])\n",
        "X_df = pd.DataFrame(X, columns=features)\n",
        "print(X_df.shape)\n",
        "\n"
      ],
      "metadata": {
        "colab": {
          "base_uri": "https://localhost:8080/"
        },
        "id": "5SBFTUjpZFGh",
        "outputId": "f0565540-d98b-4411-c8f2-a4577742858f"
      },
      "execution_count": null,
      "outputs": [
        {
          "output_type": "stream",
          "name": "stdout",
          "text": [
            "['Awakenings', 'Sleep duration', 'Alcohol consumption']\n",
            "[[0.0, 6.0, 0.0], [3.0, 7.0, 3.0], [1.0, 8.0, 0.0], [3.0, 6.0, 5.0], [3.0, 8.0, 3.0]]\n",
            "(388, 3)\n"
          ]
        }
      ]
    },
    {
      "cell_type": "code",
      "source": [
        "from sklearn.neighbors import KNeighborsClassifier\n",
        "\n",
        "model=KNeighborsClassifier(n_neighbors=3,n_jobs=-1)\n",
        "\n",
        "model.fit(X,y)"
      ],
      "metadata": {
        "colab": {
          "base_uri": "https://localhost:8080/",
          "height": 74
        },
        "id": "cgX2dBGedjOW",
        "outputId": "8df505e2-58f1-4e56-e5c2-71b2d63b77a3"
      },
      "execution_count": null,
      "outputs": [
        {
          "output_type": "execute_result",
          "data": {
            "text/plain": [
              "KNeighborsClassifier(n_jobs=-1, n_neighbors=3)"
            ],
            "text/html": [
              "<style>#sk-container-id-6 {color: black;background-color: white;}#sk-container-id-6 pre{padding: 0;}#sk-container-id-6 div.sk-toggleable {background-color: white;}#sk-container-id-6 label.sk-toggleable__label {cursor: pointer;display: block;width: 100%;margin-bottom: 0;padding: 0.3em;box-sizing: border-box;text-align: center;}#sk-container-id-6 label.sk-toggleable__label-arrow:before {content: \"▸\";float: left;margin-right: 0.25em;color: #696969;}#sk-container-id-6 label.sk-toggleable__label-arrow:hover:before {color: black;}#sk-container-id-6 div.sk-estimator:hover label.sk-toggleable__label-arrow:before {color: black;}#sk-container-id-6 div.sk-toggleable__content {max-height: 0;max-width: 0;overflow: hidden;text-align: left;background-color: #f0f8ff;}#sk-container-id-6 div.sk-toggleable__content pre {margin: 0.2em;color: black;border-radius: 0.25em;background-color: #f0f8ff;}#sk-container-id-6 input.sk-toggleable__control:checked~div.sk-toggleable__content {max-height: 200px;max-width: 100%;overflow: auto;}#sk-container-id-6 input.sk-toggleable__control:checked~label.sk-toggleable__label-arrow:before {content: \"▾\";}#sk-container-id-6 div.sk-estimator input.sk-toggleable__control:checked~label.sk-toggleable__label {background-color: #d4ebff;}#sk-container-id-6 div.sk-label input.sk-toggleable__control:checked~label.sk-toggleable__label {background-color: #d4ebff;}#sk-container-id-6 input.sk-hidden--visually {border: 0;clip: rect(1px 1px 1px 1px);clip: rect(1px, 1px, 1px, 1px);height: 1px;margin: -1px;overflow: hidden;padding: 0;position: absolute;width: 1px;}#sk-container-id-6 div.sk-estimator {font-family: monospace;background-color: #f0f8ff;border: 1px dotted black;border-radius: 0.25em;box-sizing: border-box;margin-bottom: 0.5em;}#sk-container-id-6 div.sk-estimator:hover {background-color: #d4ebff;}#sk-container-id-6 div.sk-parallel-item::after {content: \"\";width: 100%;border-bottom: 1px solid gray;flex-grow: 1;}#sk-container-id-6 div.sk-label:hover label.sk-toggleable__label {background-color: #d4ebff;}#sk-container-id-6 div.sk-serial::before {content: \"\";position: absolute;border-left: 1px solid gray;box-sizing: border-box;top: 0;bottom: 0;left: 50%;z-index: 0;}#sk-container-id-6 div.sk-serial {display: flex;flex-direction: column;align-items: center;background-color: white;padding-right: 0.2em;padding-left: 0.2em;position: relative;}#sk-container-id-6 div.sk-item {position: relative;z-index: 1;}#sk-container-id-6 div.sk-parallel {display: flex;align-items: stretch;justify-content: center;background-color: white;position: relative;}#sk-container-id-6 div.sk-item::before, #sk-container-id-6 div.sk-parallel-item::before {content: \"\";position: absolute;border-left: 1px solid gray;box-sizing: border-box;top: 0;bottom: 0;left: 50%;z-index: -1;}#sk-container-id-6 div.sk-parallel-item {display: flex;flex-direction: column;z-index: 1;position: relative;background-color: white;}#sk-container-id-6 div.sk-parallel-item:first-child::after {align-self: flex-end;width: 50%;}#sk-container-id-6 div.sk-parallel-item:last-child::after {align-self: flex-start;width: 50%;}#sk-container-id-6 div.sk-parallel-item:only-child::after {width: 0;}#sk-container-id-6 div.sk-dashed-wrapped {border: 1px dashed gray;margin: 0 0.4em 0.5em 0.4em;box-sizing: border-box;padding-bottom: 0.4em;background-color: white;}#sk-container-id-6 div.sk-label label {font-family: monospace;font-weight: bold;display: inline-block;line-height: 1.2em;}#sk-container-id-6 div.sk-label-container {text-align: center;}#sk-container-id-6 div.sk-container {/* jupyter's `normalize.less` sets `[hidden] { display: none; }` but bootstrap.min.css set `[hidden] { display: none !important; }` so we also need the `!important` here to be able to override the default hidden behavior on the sphinx rendered scikit-learn.org. See: https://github.com/scikit-learn/scikit-learn/issues/21755 */display: inline-block !important;position: relative;}#sk-container-id-6 div.sk-text-repr-fallback {display: none;}</style><div id=\"sk-container-id-6\" class=\"sk-top-container\"><div class=\"sk-text-repr-fallback\"><pre>KNeighborsClassifier(n_jobs=-1, n_neighbors=3)</pre><b>In a Jupyter environment, please rerun this cell to show the HTML representation or trust the notebook. <br />On GitHub, the HTML representation is unable to render, please try loading this page with nbviewer.org.</b></div><div class=\"sk-container\" hidden><div class=\"sk-item\"><div class=\"sk-estimator sk-toggleable\"><input class=\"sk-toggleable__control sk-hidden--visually\" id=\"sk-estimator-id-6\" type=\"checkbox\" checked><label for=\"sk-estimator-id-6\" class=\"sk-toggleable__label sk-toggleable__label-arrow\">KNeighborsClassifier</label><div class=\"sk-toggleable__content\"><pre>KNeighborsClassifier(n_jobs=-1, n_neighbors=3)</pre></div></div></div></div></div>"
            ]
          },
          "metadata": {},
          "execution_count": 88
        }
      ]
    },
    {
      "cell_type": "code",
      "source": [
        "predicted=model.predict([[0,3]])\n",
        "print(predicted)"
      ],
      "metadata": {
        "colab": {
          "base_uri": "https://localhost:8080/",
          "height": 375
        },
        "id": "Xe_CXEQHd37F",
        "outputId": "02f5f568-85a1-4404-b774-ee5f3bf5acc3"
      },
      "execution_count": null,
      "outputs": [
        {
          "output_type": "error",
          "ename": "ValueError",
          "evalue": "ignored",
          "traceback": [
            "\u001b[0;31m---------------------------------------------------------------------------\u001b[0m",
            "\u001b[0;31mValueError\u001b[0m                                Traceback (most recent call last)",
            "\u001b[0;32m<ipython-input-91-e40b853a2009>\u001b[0m in \u001b[0;36m<module>\u001b[0;34m\u001b[0m\n\u001b[0;32m----> 1\u001b[0;31m \u001b[0mpredicted\u001b[0m\u001b[0;34m=\u001b[0m\u001b[0mmodel\u001b[0m\u001b[0;34m.\u001b[0m\u001b[0mpredict\u001b[0m\u001b[0;34m(\u001b[0m\u001b[0;34m[\u001b[0m\u001b[0;34m[\u001b[0m\u001b[0;36m0\u001b[0m\u001b[0;34m,\u001b[0m\u001b[0;36m3\u001b[0m\u001b[0;34m]\u001b[0m\u001b[0;34m]\u001b[0m\u001b[0;34m)\u001b[0m\u001b[0;34m\u001b[0m\u001b[0;34m\u001b[0m\u001b[0m\n\u001b[0m\u001b[1;32m      2\u001b[0m \u001b[0mprint\u001b[0m\u001b[0;34m(\u001b[0m\u001b[0mpredictions\u001b[0m\u001b[0;34m)\u001b[0m\u001b[0;34m\u001b[0m\u001b[0;34m\u001b[0m\u001b[0m\n",
            "\u001b[0;32m/usr/local/lib/python3.9/dist-packages/sklearn/neighbors/_classification.py\u001b[0m in \u001b[0;36mpredict\u001b[0;34m(self, X)\u001b[0m\n\u001b[1;32m    232\u001b[0m             \u001b[0;31m# In that case, we do not need the distances to perform\u001b[0m\u001b[0;34m\u001b[0m\u001b[0;34m\u001b[0m\u001b[0m\n\u001b[1;32m    233\u001b[0m             \u001b[0;31m# the weighting so we do not compute them.\u001b[0m\u001b[0;34m\u001b[0m\u001b[0;34m\u001b[0m\u001b[0m\n\u001b[0;32m--> 234\u001b[0;31m             \u001b[0mneigh_ind\u001b[0m \u001b[0;34m=\u001b[0m \u001b[0mself\u001b[0m\u001b[0;34m.\u001b[0m\u001b[0mkneighbors\u001b[0m\u001b[0;34m(\u001b[0m\u001b[0mX\u001b[0m\u001b[0;34m,\u001b[0m \u001b[0mreturn_distance\u001b[0m\u001b[0;34m=\u001b[0m\u001b[0;32mFalse\u001b[0m\u001b[0;34m)\u001b[0m\u001b[0;34m\u001b[0m\u001b[0;34m\u001b[0m\u001b[0m\n\u001b[0m\u001b[1;32m    235\u001b[0m             \u001b[0mneigh_dist\u001b[0m \u001b[0;34m=\u001b[0m \u001b[0;32mNone\u001b[0m\u001b[0;34m\u001b[0m\u001b[0;34m\u001b[0m\u001b[0m\n\u001b[1;32m    236\u001b[0m         \u001b[0;32melse\u001b[0m\u001b[0;34m:\u001b[0m\u001b[0;34m\u001b[0m\u001b[0;34m\u001b[0m\u001b[0m\n",
            "\u001b[0;32m/usr/local/lib/python3.9/dist-packages/sklearn/neighbors/_base.py\u001b[0m in \u001b[0;36mkneighbors\u001b[0;34m(self, X, n_neighbors, return_distance)\u001b[0m\n\u001b[1;32m    804\u001b[0m                 \u001b[0mX\u001b[0m \u001b[0;34m=\u001b[0m \u001b[0m_check_precomputed\u001b[0m\u001b[0;34m(\u001b[0m\u001b[0mX\u001b[0m\u001b[0;34m)\u001b[0m\u001b[0;34m\u001b[0m\u001b[0;34m\u001b[0m\u001b[0m\n\u001b[1;32m    805\u001b[0m             \u001b[0;32melse\u001b[0m\u001b[0;34m:\u001b[0m\u001b[0;34m\u001b[0m\u001b[0;34m\u001b[0m\u001b[0m\n\u001b[0;32m--> 806\u001b[0;31m                 \u001b[0mX\u001b[0m \u001b[0;34m=\u001b[0m \u001b[0mself\u001b[0m\u001b[0;34m.\u001b[0m\u001b[0m_validate_data\u001b[0m\u001b[0;34m(\u001b[0m\u001b[0mX\u001b[0m\u001b[0;34m,\u001b[0m \u001b[0maccept_sparse\u001b[0m\u001b[0;34m=\u001b[0m\u001b[0;34m\"csr\"\u001b[0m\u001b[0;34m,\u001b[0m \u001b[0mreset\u001b[0m\u001b[0;34m=\u001b[0m\u001b[0;32mFalse\u001b[0m\u001b[0;34m,\u001b[0m \u001b[0morder\u001b[0m\u001b[0;34m=\u001b[0m\u001b[0;34m\"C\"\u001b[0m\u001b[0;34m)\u001b[0m\u001b[0;34m\u001b[0m\u001b[0;34m\u001b[0m\u001b[0m\n\u001b[0m\u001b[1;32m    807\u001b[0m \u001b[0;34m\u001b[0m\u001b[0m\n\u001b[1;32m    808\u001b[0m         \u001b[0mn_samples_fit\u001b[0m \u001b[0;34m=\u001b[0m \u001b[0mself\u001b[0m\u001b[0;34m.\u001b[0m\u001b[0mn_samples_fit_\u001b[0m\u001b[0;34m\u001b[0m\u001b[0;34m\u001b[0m\u001b[0m\n",
            "\u001b[0;32m/usr/local/lib/python3.9/dist-packages/sklearn/base.py\u001b[0m in \u001b[0;36m_validate_data\u001b[0;34m(self, X, y, reset, validate_separately, **check_params)\u001b[0m\n\u001b[1;32m    586\u001b[0m \u001b[0;34m\u001b[0m\u001b[0m\n\u001b[1;32m    587\u001b[0m         \u001b[0;32mif\u001b[0m \u001b[0;32mnot\u001b[0m \u001b[0mno_val_X\u001b[0m \u001b[0;32mand\u001b[0m \u001b[0mcheck_params\u001b[0m\u001b[0;34m.\u001b[0m\u001b[0mget\u001b[0m\u001b[0;34m(\u001b[0m\u001b[0;34m\"ensure_2d\"\u001b[0m\u001b[0;34m,\u001b[0m \u001b[0;32mTrue\u001b[0m\u001b[0;34m)\u001b[0m\u001b[0;34m:\u001b[0m\u001b[0;34m\u001b[0m\u001b[0;34m\u001b[0m\u001b[0m\n\u001b[0;32m--> 588\u001b[0;31m             \u001b[0mself\u001b[0m\u001b[0;34m.\u001b[0m\u001b[0m_check_n_features\u001b[0m\u001b[0;34m(\u001b[0m\u001b[0mX\u001b[0m\u001b[0;34m,\u001b[0m \u001b[0mreset\u001b[0m\u001b[0;34m=\u001b[0m\u001b[0mreset\u001b[0m\u001b[0;34m)\u001b[0m\u001b[0;34m\u001b[0m\u001b[0;34m\u001b[0m\u001b[0m\n\u001b[0m\u001b[1;32m    589\u001b[0m \u001b[0;34m\u001b[0m\u001b[0m\n\u001b[1;32m    590\u001b[0m         \u001b[0;32mreturn\u001b[0m \u001b[0mout\u001b[0m\u001b[0;34m\u001b[0m\u001b[0;34m\u001b[0m\u001b[0m\n",
            "\u001b[0;32m/usr/local/lib/python3.9/dist-packages/sklearn/base.py\u001b[0m in \u001b[0;36m_check_n_features\u001b[0;34m(self, X, reset)\u001b[0m\n\u001b[1;32m    387\u001b[0m \u001b[0;34m\u001b[0m\u001b[0m\n\u001b[1;32m    388\u001b[0m         \u001b[0;32mif\u001b[0m \u001b[0mn_features\u001b[0m \u001b[0;34m!=\u001b[0m \u001b[0mself\u001b[0m\u001b[0;34m.\u001b[0m\u001b[0mn_features_in_\u001b[0m\u001b[0;34m:\u001b[0m\u001b[0;34m\u001b[0m\u001b[0;34m\u001b[0m\u001b[0m\n\u001b[0;32m--> 389\u001b[0;31m             raise ValueError(\n\u001b[0m\u001b[1;32m    390\u001b[0m                 \u001b[0;34mf\"X has {n_features} features, but {self.__class__.__name__} \"\u001b[0m\u001b[0;34m\u001b[0m\u001b[0;34m\u001b[0m\u001b[0m\n\u001b[1;32m    391\u001b[0m                 \u001b[0;34mf\"is expecting {self.n_features_in_} features as input.\"\u001b[0m\u001b[0;34m\u001b[0m\u001b[0;34m\u001b[0m\u001b[0m\n",
            "\u001b[0;31mValueError\u001b[0m: X has 2 features, but KNeighborsClassifier is expecting 3 features as input."
          ]
        }
      ]
    },
    {
      "cell_type": "markdown",
      "source": [
        "As we can see our data can predict whether based on the amount of awakenings,length of sleep duration, and their alchohol consumption, if their features match those who are smokers. "
      ],
      "metadata": {
        "id": "3JWsjvuaoj42"
      }
    },
    {
      "cell_type": "markdown",
      "source": [],
      "metadata": {
        "id": "cH3D2FhWpAcL"
      }
    }
  ]
}